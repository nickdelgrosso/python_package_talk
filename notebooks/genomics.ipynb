{
 "cells": [
  {
   "cell_type": "markdown",
   "metadata": {},
   "source": [
    "# Given a DNA sequence, tell me whether the RNA it transcribes to contains the AUG start codon"
   ]
  },
  {
   "cell_type": "code",
   "execution_count": 11,
   "metadata": {},
   "outputs": [
    {
     "name": "stdout",
     "output_type": "stream",
     "text": [
      "Writing dna_data.txt\n"
     ]
    }
   ],
   "source": [
    "%%writefile dna_data.txt\n",
    "TGCAGTACATA\n",
    "GTACCCACGGGT"
   ]
  },
  {
   "cell_type": "code",
   "execution_count": 1,
   "metadata": {},
   "outputs": [],
   "source": [
    "seq = \"GTCAGTCACATGCA\""
   ]
  },
  {
   "cell_type": "markdown",
   "metadata": {},
   "source": [
    "## Get the Complement"
   ]
  },
  {
   "cell_type": "code",
   "execution_count": 7,
   "metadata": {},
   "outputs": [
    {
     "data": {
      "text/plain": [
       "'CAGTCAGTGTACGT'"
      ]
     },
     "execution_count": 7,
     "metadata": {},
     "output_type": "execute_result"
    }
   ],
   "source": [
    "comp_seq = []\n",
    "for nt in seq:\n",
    "    if nt == 'G':\n",
    "        rnt = 'C'\n",
    "    elif nt == 'C':\n",
    "        rnt = 'G'\n",
    "    elif nt == 'T':\n",
    "        rnt = 'A'\n",
    "    elif nt == 'A':\n",
    "        rnt = 'T'\n",
    "    comp_seq.append(rnt)\n",
    "    \n",
    "comp_seq = ''.join(comp_seq)\n",
    "comp_seq"
   ]
  },
  {
   "cell_type": "markdown",
   "metadata": {},
   "source": [
    "## Transcribe the sequence to RNA"
   ]
  },
  {
   "cell_type": "code",
   "execution_count": 10,
   "metadata": {},
   "outputs": [
    {
     "data": {
      "text/plain": [
       "'UGCAUGUGACUGAC'"
      ]
     },
     "execution_count": 10,
     "metadata": {},
     "output_type": "execute_result"
    }
   ],
   "source": [
    "rna_seq = []\n",
    "for nt in seq:\n",
    "    if nt == 'G':\n",
    "        rnt = 'C'\n",
    "    elif nt == 'C':\n",
    "        rnt = 'G'\n",
    "    elif nt == 'T':\n",
    "        rnt = 'A'\n",
    "    elif nt == 'A':\n",
    "        rnt = 'U'\n",
    "    rna_seq.append(rnt)\n",
    "    \n",
    "rna_seq = ''.join(rna_seq)[::-1]\n",
    "rna_seq"
   ]
  },
  {
   "cell_type": "markdown",
   "metadata": {},
   "source": [
    "## Is it coding?"
   ]
  },
  {
   "cell_type": "code",
   "execution_count": 6,
   "metadata": {},
   "outputs": [
    {
     "data": {
      "text/plain": [
       "False"
      ]
     },
     "execution_count": 6,
     "metadata": {},
     "output_type": "execute_result"
    }
   ],
   "source": [
    "'AUG' in rna_seq"
   ]
  },
  {
   "cell_type": "markdown",
   "metadata": {},
   "source": [
    "## (same for complement)"
   ]
  },
  {
   "cell_type": "code",
   "execution_count": 8,
   "metadata": {},
   "outputs": [
    {
     "data": {
      "text/plain": [
       "'GUCAGUCACAUGCA'"
      ]
     },
     "execution_count": 8,
     "metadata": {},
     "output_type": "execute_result"
    }
   ],
   "source": [
    "rna_seq = []\n",
    "for nt in comp_seq:\n",
    "    if nt == 'G':\n",
    "        rnt = 'C'\n",
    "    elif nt == 'C':\n",
    "        rnt = 'G'\n",
    "    elif nt == 'T':\n",
    "        rnt = 'A'\n",
    "    elif nt == 'A':\n",
    "        rnt = 'U'\n",
    "    rna_seq.append(rnt)\n",
    "    \n",
    "rna_seq2 = ''.join(rna_seq)\n",
    "rna_seq2"
   ]
  },
  {
   "cell_type": "code",
   "execution_count": 9,
   "metadata": {},
   "outputs": [
    {
     "data": {
      "text/plain": [
       "True"
      ]
     },
     "execution_count": 9,
     "metadata": {},
     "output_type": "execute_result"
    }
   ],
   "source": [
    "'AUG' in rna_seq2"
   ]
  },
  {
   "cell_type": "code",
   "execution_count": null,
   "metadata": {},
   "outputs": [],
   "source": []
  }
 ],
 "metadata": {
  "kernelspec": {
   "display_name": "Python 3",
   "language": "python",
   "name": "python3"
  },
  "language_info": {
   "codemirror_mode": {
    "name": "ipython",
    "version": 3
   },
   "file_extension": ".py",
   "mimetype": "text/x-python",
   "name": "python",
   "nbconvert_exporter": "python",
   "pygments_lexer": "ipython3",
   "version": "3.6.5"
  }
 },
 "nbformat": 4,
 "nbformat_minor": 2
}
